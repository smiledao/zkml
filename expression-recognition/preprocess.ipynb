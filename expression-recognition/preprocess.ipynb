{
 "cells": [
  {
   "cell_type": "code",
   "execution_count": 1,
   "metadata": {
    "collapsed": true,
    "ExecuteTime": {
     "end_time": "2023-06-24T16:31:28.235324600Z",
     "start_time": "2023-06-24T16:31:27.255987600Z"
    }
   },
   "outputs": [],
   "source": [
    "import os\n",
    "from PIL import Image\n",
    "import numpy as np\n",
    "from torchvision import transforms"
   ]
  },
  {
   "cell_type": "code",
   "execution_count": 26,
   "outputs": [],
   "source": [
    "def calculate_mean_std(root_dir):\n",
    "    transform_to_tensor = transforms.ToTensor()\n",
    "    num_pixels = 0\n",
    "    total_sum = np.zeros(3)\n",
    "    total_sum_squared = np.zeros(3)\n",
    "\n",
    "    for dirpath, _, filenames in os.walk(root_dir):\n",
    "        for filename in filenames:\n",
    "            if filename.endswith('.jpg') or filename.endswith('.png'): # add more conditions if there are other image types\n",
    "                filepath = os.path.join(dirpath, filename)\n",
    "                with Image.open(filepath) as img:\n",
    "                    img = img.convert('RGB')\n",
    "                    tensor_img = transform_to_tensor(img)\n",
    "                    total_sum = np.add(total_sum, (tensor_img.sum((1, 2))))  # sum over height and width dimensions\n",
    "                    total_sum_squared = np.add(total_sum_squared, ((tensor_img ** 2).sum((1, 2))))  # sum over height and width dimensions\n",
    "                    _, height, width = tensor_img.shape\n",
    "                    num_pixels += height * width\n",
    "\n",
    "    mean = total_sum / num_pixels\n",
    "    std = np.sqrt((total_sum_squared / num_pixels) - (mean ** 2))\n",
    "    return mean, std"
   ],
   "metadata": {
    "collapsed": false,
    "ExecuteTime": {
     "end_time": "2023-06-24T16:45:03.548035300Z",
     "start_time": "2023-06-24T16:45:03.529335700Z"
    }
   }
  },
  {
   "cell_type": "code",
   "execution_count": 27,
   "outputs": [
    {
     "data": {
      "text/plain": "(tensor([0.5375, 0.4315, 0.3818], dtype=torch.float64),\n tensor([0.2928, 0.2656, 0.2614], dtype=torch.float64))"
     },
     "execution_count": 27,
     "metadata": {},
     "output_type": "execute_result"
    }
   ],
   "source": [
    "calculate_mean_std('./data')"
   ],
   "metadata": {
    "collapsed": false,
    "ExecuteTime": {
     "end_time": "2023-06-24T16:45:19.623821800Z",
     "start_time": "2023-06-24T16:45:04.084192500Z"
    }
   }
  },
  {
   "cell_type": "code",
   "execution_count": null,
   "outputs": [],
   "source": [
    "\n"
   ],
   "metadata": {
    "collapsed": false
   }
  }
 ],
 "metadata": {
  "kernelspec": {
   "display_name": "Python 3",
   "language": "python",
   "name": "python3"
  },
  "language_info": {
   "codemirror_mode": {
    "name": "ipython",
    "version": 2
   },
   "file_extension": ".py",
   "mimetype": "text/x-python",
   "name": "python",
   "nbconvert_exporter": "python",
   "pygments_lexer": "ipython2",
   "version": "2.7.6"
  }
 },
 "nbformat": 4,
 "nbformat_minor": 0
}
